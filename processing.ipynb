{
 "cells": [
  {
   "cell_type": "code",
   "execution_count": 44,
   "id": "5847c03e",
   "metadata": {},
   "outputs": [],
   "source": [
    "import torch\n",
    "import torch.nn as nn\n",
    "import torch.nn.functional as F"
   ]
  },
  {
   "cell_type": "code",
   "execution_count": 45,
   "id": "748f8a20",
   "metadata": {},
   "outputs": [
    {
     "data": {
      "text/plain": [
       "torch.Size([4, 8, 2])"
      ]
     },
     "execution_count": 45,
     "metadata": {},
     "output_type": "execute_result"
    }
   ],
   "source": [
    "B,T,C = 4,8,2\n",
    "x = torch.randn(B,T,C)\n",
    "x.shape"
   ]
  },
  {
   "cell_type": "code",
   "execution_count": 46,
   "id": "e2f69f4b",
   "metadata": {},
   "outputs": [],
   "source": [
    "# x is of shape B,T,C.\n",
    "# The B dimension represents each different batch of data. The batching is only used for computational reasons and each batch is independent of eachother.\n",
    "# The T dimension is an array representing the sequence of tokens.\n",
    "# The C dimension has an entry for each letter/token in the vocabulary. It holds the probability of each token in the vocabulary at each position in the sequence.\n",
    "xbow = torch.zeros((B,T,C))\n",
    "for b in range(B):\n",
    "    for t in range(T):\n",
    "        xprev = x[b,:t+1] # (t,C)\n",
    "        xbow[b,t] = torch.mean(xprev, 0)\n",
    "# xbow (X bag-of-words) holds the rolling average of the values in X"
   ]
  },
  {
   "cell_type": "code",
   "execution_count": 47,
   "id": "203e693c",
   "metadata": {},
   "outputs": [],
   "source": [
    "wei = torch.tril(torch.ones(T, T)) # Lower triangular matrix with ones in the lower entries\n",
    "wei = wei / wei.sum(1, keepdim=True) # divide each row by its sum (normalize each row)\n",
    "xbow2 = wei @ x # matrix multiplication of weights matrix and x. (T, T) @ (B, T, C)\n",
    "# Pytorch performs this multiplication by repeating over each batch, effectively resulting in:\n",
    "# (T, T) @ (B, T, C)  -->  (B, T, T) @ (B, T, C)  -->   (B, T, C)"
   ]
  },
  {
   "cell_type": "code",
   "execution_count": null,
   "id": "f49aa66a",
   "metadata": {},
   "outputs": [
    {
     "name": "stdout",
     "output_type": "stream",
     "text": [
      "tensor([[1.0000, 0.0000, 0.0000, 0.0000, 0.0000, 0.0000, 0.0000, 0.0000],\n",
      "        [0.5000, 0.5000, 0.0000, 0.0000, 0.0000, 0.0000, 0.0000, 0.0000],\n",
      "        [0.3333, 0.3333, 0.3333, 0.0000, 0.0000, 0.0000, 0.0000, 0.0000],\n",
      "        [0.2500, 0.2500, 0.2500, 0.2500, 0.0000, 0.0000, 0.0000, 0.0000],\n",
      "        [0.2000, 0.2000, 0.2000, 0.2000, 0.2000, 0.0000, 0.0000, 0.0000],\n",
      "        [0.1667, 0.1667, 0.1667, 0.1667, 0.1667, 0.1667, 0.0000, 0.0000],\n",
      "        [0.1429, 0.1429, 0.1429, 0.1429, 0.1429, 0.1429, 0.1429, 0.0000],\n",
      "        [0.1250, 0.1250, 0.1250, 0.1250, 0.1250, 0.1250, 0.1250, 0.1250]])\n"
     ]
    }
   ],
   "source": [
    "tril = torch.tril(torch.ones(T, T)) # Lower triangular matrix with ones in the lower entries\n",
    "wei2 = torch.zeros((T, T)) # zero matrix\n",
    "wei2 = wei2.masked_fill(tril == 0, float('-inf')) # If the entry is zero, replace with -inf. Else, replace with 0. Results in an upper triangular matrix of -inf. With zeros on main diagonal and below.\n",
    "wei2 = F.softmax(wei2, dim=-1) # softmax exponentiates and then divides by row sum. e^0 = 1 and e^-inf = 0, so this results in the targeted weight matrix.\n",
    "print(wei2)\n",
    "xbow3 = wei2 @ x"
   ]
  },
  {
   "cell_type": "code",
   "execution_count": 49,
   "id": "9ddb48d7",
   "metadata": {},
   "outputs": [
    {
     "name": "stdout",
     "output_type": "stream",
     "text": [
      "tensor([[-0.2726, -0.5487],\n",
      "        [-0.3130, -1.5860],\n",
      "        [ 0.5492, -1.8602],\n",
      "        [-0.5576, -2.0523],\n",
      "        [-0.1684, -0.1545],\n",
      "        [-2.1030,  0.7475],\n",
      "        [-0.2567,  0.5828],\n",
      "        [ 0.4637, -0.6562]])\n",
      "tensor([[-0.2726, -0.5487],\n",
      "        [-0.2928, -1.0674],\n",
      "        [-0.0122, -1.3317],\n",
      "        [-0.1485, -1.5118],\n",
      "        [-0.1525, -1.2404],\n",
      "        [-0.4776, -0.9090],\n",
      "        [-0.4460, -0.6959],\n",
      "        [-0.3323, -0.6910]])\n",
      "tensor([[-0.2726, -0.5487],\n",
      "        [-0.2928, -1.0674],\n",
      "        [-0.0122, -1.3317],\n",
      "        [-0.1485, -1.5118],\n",
      "        [-0.1525, -1.2404],\n",
      "        [-0.4776, -0.9090],\n",
      "        [-0.4460, -0.6959],\n",
      "        [-0.3323, -0.6910]])\n",
      "True\n",
      "True\n"
     ]
    }
   ],
   "source": [
    "print(x[0])\n",
    "print(xbow[0])\n",
    "print(xbow2[0])\n",
    "\n",
    "print(torch.allclose(xbow, xbow2)) # is xbow identical to xbow2?\n",
    "print(torch.allclose(xbow, xbow3)) # is xbow identical to xbow3?"
   ]
  },
  {
   "cell_type": "code",
   "execution_count": null,
   "id": "10a596b1",
   "metadata": {},
   "outputs": [],
   "source": []
  }
 ],
 "metadata": {
  "kernelspec": {
   "display_name": "Python 3",
   "language": "python",
   "name": "python3"
  },
  "language_info": {
   "codemirror_mode": {
    "name": "ipython",
    "version": 3
   },
   "file_extension": ".py",
   "mimetype": "text/x-python",
   "name": "python",
   "nbconvert_exporter": "python",
   "pygments_lexer": "ipython3",
   "version": "3.11.1"
  }
 },
 "nbformat": 4,
 "nbformat_minor": 5
}
